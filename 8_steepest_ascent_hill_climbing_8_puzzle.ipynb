{
  "nbformat": 4,
  "nbformat_minor": 0,
  "metadata": {
    "colab": {
      "provenance": [],
      "authorship_tag": "ABX9TyNk0vrCQ/te+E23HjnWPzHS",
      "include_colab_link": true
    },
    "kernelspec": {
      "name": "python3",
      "display_name": "Python 3"
    },
    "language_info": {
      "name": "python"
    }
  },
  "cells": [
    {
      "cell_type": "markdown",
      "metadata": {
        "id": "view-in-github",
        "colab_type": "text"
      },
      "source": [
        "<a href=\"https://colab.research.google.com/github/prasi09/AI_Reports/blob/main/8_steepest_ascent_hill_climbing_8_puzzle.ipynb\" target=\"_parent\"><img src=\"https://colab.research.google.com/assets/colab-badge.svg\" alt=\"Open In Colab\"/></a>"
      ]
    },
    {
      "cell_type": "code",
      "execution_count": 2,
      "metadata": {
        "colab": {
          "base_uri": "https://localhost:8080/"
        },
        "id": "jST-pkJ0G9p3",
        "outputId": "7d548563-f523-4c1a-9643-216f0870eebd"
      },
      "outputs": [
        {
          "output_type": "stream",
          "name": "stdout",
          "text": [
            "Initial State:\n",
            "[1, 2, 3]\n",
            "[4, 0, 5]\n",
            "[7, 8, 6]\n",
            "\n",
            "Step 1 :\n",
            "[1, 2, 3]\n",
            "[4, 5, 0]\n",
            "[7, 8, 6]\n",
            "\n",
            "Step 2 :\n",
            "[1, 2, 3]\n",
            "[4, 5, 6]\n",
            "[7, 8, 0]\n",
            "\n",
            "Solution reached in 2 steps:\n",
            "\n",
            "Final Solution:\n",
            "[1, 2, 3]\n",
            "[4, 5, 6]\n",
            "[7, 8, 0]\n"
          ]
        }
      ],
      "source": [
        "import random\n",
        "\n",
        "def calculate_manhattan_distance(state, goal_state):\n",
        "    \"\"\"Calculates the Manhattan distance heuristic.\"\"\"\n",
        "    distance = 0\n",
        "    for i in range(3):\n",
        "        for j in range(3):\n",
        "            tile = state[i][j]\n",
        "            if tile != 0:\n",
        "                goal_position = find_tile_position(goal_state, tile)\n",
        "                distance += abs(i - goal_position[0]) + abs(j - goal_position[1])\n",
        "    return distance\n",
        "\n",
        "def find_tile_position(state, tile):\n",
        "    \"\"\"Finds the position of a tile in the state.\"\"\"\n",
        "    for i in range(3):\n",
        "        for j in range(3):\n",
        "            if state[i][j] == tile:\n",
        "                return (i, j)\n",
        "    return None\n",
        "\n",
        "def get_neighbors(state):\n",
        "    \"\"\"Generates neighboring states by moving the blank tile.\"\"\"\n",
        "    neighbors = []\n",
        "    blank_position = find_tile_position(state, 0)\n",
        "    row, col = blank_position\n",
        "    moves = [(0, 1), (0, -1), (1, 0), (-1, 0)]  # Possible moves: right, left, down, up\n",
        "    for move in moves:\n",
        "        new_row, new_col = row + move[0], col + move[1]\n",
        "        if 0 <= new_row < 3 and 0 <= new_col < 3:\n",
        "            new_state = [row[:] for row in state]  # Create a copy of the state\n",
        "            new_state[row][col], new_state[new_row][new_col] = new_state[new_row][new_col], new_state[row][col]\n",
        "            neighbors.append(new_state)\n",
        "    return neighbors\n",
        "\n",
        "def steepest_ascent_hill_climbing(initial_state, goal_state):\n",
        "    \"\"\"Implements the steepest ascent hill climbing algorithm with step display.\"\"\"\n",
        "    current_state = initial_state\n",
        "    steps = 0\n",
        "    print(\"Initial State:\")\n",
        "    for row in current_state:\n",
        "        print(row)\n",
        "\n",
        "    while True:\n",
        "        neighbors = get_neighbors(current_state)\n",
        "        best_neighbor = current_state\n",
        "        best_heuristic = calculate_manhattan_distance(current_state, goal_state)\n",
        "\n",
        "        for neighbor in neighbors:\n",
        "            heuristic = calculate_manhattan_distance(neighbor, goal_state)\n",
        "            if heuristic < best_heuristic:\n",
        "                best_heuristic = heuristic\n",
        "                best_neighbor = neighbor\n",
        "\n",
        "        if best_neighbor == current_state:\n",
        "            # Local optimum reached\n",
        "            print(\"\\nSolution reached in\", steps, \"steps:\")\n",
        "            return current_state\n",
        "\n",
        "        current_state = best_neighbor\n",
        "        steps += 1\n",
        "        print(\"\\nStep\", steps, \":\")\n",
        "        for row in current_state:\n",
        "            print(row)\n",
        "\n",
        "# Example usage:\n",
        "initial_state = [[1, 2, 3], [4, 0, 5], [7, 8, 6]]  # Initial puzzle state\n",
        "goal_state = [[1, 2, 3], [4, 5, 6], [7, 8, 0]]  # Goal state\n",
        "\n",
        "solution = steepest_ascent_hill_climbing(initial_state, goal_state)\n",
        "\n",
        "print(\"\\nFinal Solution:\")\n",
        "for row in solution:\n",
        "    print(row)"
      ]
    }
  ]
}