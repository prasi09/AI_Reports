{
  "nbformat": 4,
  "nbformat_minor": 0,
  "metadata": {
    "colab": {
      "provenance": [],
      "authorship_tag": "ABX9TyNUJDi/nEc4JZWNLNqtKO7y",
      "include_colab_link": true
    },
    "kernelspec": {
      "name": "python3",
      "display_name": "Python 3"
    },
    "language_info": {
      "name": "python"
    }
  },
  "cells": [
    {
      "cell_type": "markdown",
      "metadata": {
        "id": "view-in-github",
        "colab_type": "text"
      },
      "source": [
        "<a href=\"https://colab.research.google.com/github/prasi09/AI_Reports/blob/main/6_Tic_Tac_Toe_Heuristic.ipynb\" target=\"_parent\"><img src=\"https://colab.research.google.com/assets/colab-badge.svg\" alt=\"Open In Colab\"/></a>"
      ]
    },
    {
      "cell_type": "code",
      "execution_count": 2,
      "metadata": {
        "colab": {
          "base_uri": "https://localhost:8080/"
        },
        "id": "mxM6MmxtDgmF",
        "outputId": "6277957f-e9e4-4b9c-9e90-631a71a24354"
      },
      "outputs": [
        {
          "output_type": "stream",
          "name": "stdout",
          "text": [
            "Heuristic Value: 3\n"
          ]
        }
      ],
      "source": [
        "def calculate_heuristic(board, player):\n",
        "    \"\"\"\n",
        "    Calculate the heuristic value of a Tic-Tac-Toe board state.\n",
        "\n",
        "    Args:\n",
        "        board (list of list): The 3x3 Tic-Tac-Toe board.\n",
        "        player (str): The current player ('X' or 'O').\n",
        "\n",
        "    Returns:\n",
        "        int: The heuristic value of the state.\n",
        "    \"\"\"\n",
        "    opponent = 'O' if player == 'X' else 'X'\n",
        "    rows, cols, diagonals = 3, 3, 2\n",
        "\n",
        "    def is_line_open(line, symbol):\n",
        "        #Check if a line (row, column, or diagonal) is open for a given symbol\n",
        "        return not any(cell == (opponent if symbol == player else player) for cell in line)\n",
        "\n",
        "    # Extract all rows, columns, and diagonals\n",
        "    lines = []\n",
        "    # Add rows\n",
        "    lines.extend(board)\n",
        "    # Add columns\n",
        "    lines.extend([[board[row][col] for row in range(rows)] for col in range(cols)])\n",
        "    # Add diagonals\n",
        "    lines.append([board[i][i] for i in range(rows)])  # Top-left to bottom-right diagonal\n",
        "    lines.append([board[i][rows - i - 1] for i in range(rows)])  # Top-right to bottom-left diagonal\n",
        "\n",
        "    # Calculate open lines for the player and opponent\n",
        "    open_for_player = sum(1 for line in lines if is_line_open(line, player))\n",
        "    open_for_opponent = sum(1 for line in lines if is_line_open(line, opponent))\n",
        "\n",
        "    # Compute heuristic value\n",
        "    heuristic_value = open_for_player - open_for_opponent\n",
        "    return heuristic_value\n",
        "\n",
        "\n",
        "# Example usage\n",
        "board = [\n",
        "    ['X', '', ''],\n",
        "    ['', '', ''],\n",
        "    ['', '', '']\n",
        "]\n",
        "player = 'X'\n",
        "\n",
        "heuristic_value = calculate_heuristic(board, player)\n",
        "print(f\"Heuristic Value: {heuristic_value}\")\n"
      ]
    }
  ]
}
