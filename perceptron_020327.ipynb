{
  "nbformat": 4,
  "nbformat_minor": 0,
  "metadata": {
    "colab": {
      "provenance": [],
      "include_colab_link": true
    },
    "kernelspec": {
      "name": "python3",
      "display_name": "Python 3"
    },
    "language_info": {
      "name": "python"
    }
  },
  "cells": [
    {
      "cell_type": "markdown",
      "metadata": {
        "id": "view-in-github",
        "colab_type": "text"
      },
      "source": [
        "<a href=\"https://colab.research.google.com/github/prasi09/AI_Reports/blob/main/perceptron_020327.ipynb\" target=\"_parent\"><img src=\"https://colab.research.google.com/assets/colab-badge.svg\" alt=\"Open In Colab\"/></a>"
      ]
    },
    {
      "cell_type": "code",
      "execution_count": null,
      "metadata": {
        "id": "6L90dOCPOMIV"
      },
      "outputs": [],
      "source": [
        "import numpy as np\n",
        "# import matplotlib.pyplot as plt"
      ]
    },
    {
      "cell_type": "code",
      "source": [
        "# Training data for AND gate\n",
        "X = np.array([[0, 0], [0, 1], [1, 0], [1, 1]])\n",
        "y = np.array([0, 0, 0, 1])"
      ],
      "metadata": {
        "id": "Ipn5UyAaPuHX"
      },
      "execution_count": null,
      "outputs": []
    },
    {
      "cell_type": "code",
      "source": [
        "def step(x,th):\n",
        "  if x>=th:\n",
        "    return(1)\n",
        "  return(0)\n",
        "\n",
        "def linearInt(x):\n",
        "  return (round(x))\n",
        "\n",
        "def predict(X, y, weights):\n",
        "  print(\"X\\tActual\\tPredicted\")\n",
        "  for x_input, y_output in zip(X, y):\n",
        "    inSum=np.sum(x_input * weights)\n",
        "    y_pred = step(inSum,th)\n",
        "    print(x_input,\"\\t\",y_output,\"\\t\",y_pred)"
      ],
      "metadata": {
        "id": "pGJGfYVEP0BG"
      },
      "execution_count": null,
      "outputs": []
    },
    {
      "cell_type": "code",
      "source": [
        "# initialize constants\n",
        "lr = 0.1\n",
        "th = 0.5\n",
        "\n",
        "# Initialize weights array\n",
        "weights = []\n",
        "\n",
        "# Loop through each element in X\n",
        "for i in range(X.shape[1]): #+1 for te bias\n",
        "    # Initialize w randomly between 0 and 1 using Python's random module & Convert w to have only one digit after the decimal point\n",
        "    w = round(np.random.rand(),1)\n",
        "    weights.append(w)\n",
        "\n",
        "print(\"Randomly initialized weights for each input:\")\n",
        "for i in range(len(weights)):\n",
        "    print(f\"weights[{i}]:\", weights[i])"
      ],
      "metadata": {
        "colab": {
          "base_uri": "https://localhost:8080/"
        },
        "id": "5eFtTrnvP2AV",
        "outputId": "e6580d4b-666a-4f6a-f0e1-bc6c5f7330db"
      },
      "execution_count": null,
      "outputs": [
        {
          "output_type": "stream",
          "name": "stdout",
          "text": [
            "Randomly initialized weights for each input:\n",
            "weights[0]: 0.6\n",
            "weights[1]: 1.0\n"
          ]
        }
      ]
    },
    {
      "cell_type": "code",
      "source": [
        "# initialize constants\n",
        "lr = 0.1\n",
        "th = 0.5\n",
        "\n",
        "# Initialize weights array\n",
        "weights = []\n",
        "\n",
        "# Loop through each element in X\n",
        "for i in range(X.shape[1]): #+1 for te bias\n",
        "    # Initialize w randomly between 0 and 1 using Python's random module & Convert w to have only one digit after the decimal point\n",
        "    w = round(np.random.rand(),1)\n",
        "    weights.append(w)\n",
        "\n",
        "print(\"Randomly initialized weights for each input:\")\n",
        "for i in range(len(weights)):\n",
        "    print(f\"weights[{i}]:\", weights[i])"
      ],
      "metadata": {
        "colab": {
          "base_uri": "https://localhost:8080/"
        },
        "id": "a1508eBoP4Ud",
        "outputId": "c3a93250-e425-4293-9320-486fda522f55"
      },
      "execution_count": null,
      "outputs": [
        {
          "output_type": "stream",
          "name": "stdout",
          "text": [
            "Randomly initialized weights for each input:\n",
            "weights[0]: 0.3\n",
            "weights[1]: 0.5\n"
          ]
        }
      ]
    },
    {
      "cell_type": "code",
      "source": [
        " #For AND/OR Logic Gates\n",
        "# print (step(0.5,th))\n",
        "iterateFlag = True\n",
        "while (iterateFlag):\n",
        "  iterateFlag = False\n",
        "  for x_input, y_output in zip(X, y):\n",
        "    inSum=np.sum(x_input * weights)\n",
        "    y_pred = step(inSum,th)\n",
        "    err = y_output - y_pred\n",
        "    if(err!=0):\n",
        "      iterateFlag = True\n",
        "      for i in range(len(weights)):\n",
        "        dw = lr * x_input[i] * err\n",
        "        weights[i] = weights[i] + dw\n",
        "      print(\"input:\",x_input, \"actual output:\",y_output,\"predicted output: \",y_pred,\"updated weights:\", weights)\n",
        "\n",
        "print(\"Final weights:\", weights)"
      ],
      "metadata": {
        "colab": {
          "base_uri": "https://localhost:8080/"
        },
        "id": "jxAcnX6WP5_9",
        "outputId": "4e732d67-3e09-4863-9509-f8338bc599fe"
      },
      "execution_count": null,
      "outputs": [
        {
          "output_type": "stream",
          "name": "stdout",
          "text": [
            "input: [0 1] actual output: 0 predicted output:  1 updated weights: [0.3, 0.4]\n",
            "Final weights: [0.3, 0.4]\n"
          ]
        }
      ]
    }
  ]
}