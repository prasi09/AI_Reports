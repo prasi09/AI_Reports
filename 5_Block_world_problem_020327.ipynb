{
  "nbformat": 4,
  "nbformat_minor": 0,
  "metadata": {
    "colab": {
      "provenance": [],
      "authorship_tag": "ABX9TyMStkXSxORSC64Sro9o7Elw",
      "include_colab_link": true
    },
    "kernelspec": {
      "name": "python3",
      "display_name": "Python 3"
    },
    "language_info": {
      "name": "python"
    }
  },
  "cells": [
    {
      "cell_type": "markdown",
      "metadata": {
        "id": "view-in-github",
        "colab_type": "text"
      },
      "source": [
        "<a href=\"https://colab.research.google.com/github/prasi09/AI_Reports/blob/main/5_Block_world_problem_020327.ipynb\" target=\"_parent\"><img src=\"https://colab.research.google.com/assets/colab-badge.svg\" alt=\"Open In Colab\"/></a>"
      ]
    },
    {
      "cell_type": "code",
      "execution_count": null,
      "metadata": {
        "colab": {
          "base_uri": "https://localhost:8080/"
        },
        "id": "tJnNFiMH8tuW",
        "outputId": "4b260cff-2245-4a9d-d397-b28dfee4aaa2"
      },
      "outputs": [
        {
          "output_type": "stream",
          "name": "stdout",
          "text": [
            "Heuristic Value: -4\n"
          ]
        }
      ],
      "source": [
        "def calculate_heuristic(start_state, goal_state):\n",
        "    \"\"\"\n",
        "    Calculates the heuristic value for the Blocks World problem.\n",
        "\n",
        "    Args:\n",
        "        start_state (list): A list of blocks from top to bottom in the start state.\n",
        "        goal_state (list): A list of blocks from top to bottom in the goal state.\n",
        "\n",
        "    Returns:\n",
        "        int: The heuristic value of the state.\n",
        "    \"\"\"\n",
        "    heuristic = 0\n",
        "    n = len(start_state)\n",
        "\n",
        "    for i in range(n):\n",
        "        if start_state[i:] == goal_state[i:]:\n",
        "            # If the support structure matches the goal\n",
        "            heuristic += 1\n",
        "            break  # Remaining structure is correct\n",
        "        else:\n",
        "            # If the support structure does not match\n",
        "            heuristic -= 1\n",
        "\n",
        "    return heuristic\n",
        "\n",
        "\n",
        "# Example: Define the start and goal states\n",
        "start_state = [\"A\", \"D\", \"C\", \"B\"]  # Top to bottom\n",
        "goal_state = [\"D\", \"C\", \"B\", \"A\"]   # Top to bottom\n",
        "\n",
        "# Calculate and print the heuristic value\n",
        "heuristic_value = calculate_heuristic(start_state, goal_state)\n",
        "print(f\"Heuristic Value: {heuristic_value}\")\n"
      ]
    }
  ]
}