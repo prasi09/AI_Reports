{
  "nbformat": 4,
  "nbformat_minor": 0,
  "metadata": {
    "colab": {
      "provenance": [],
      "include_colab_link": true
    },
    "kernelspec": {
      "name": "python3",
      "display_name": "Python 3"
    },
    "language_info": {
      "name": "python"
    }
  },
  "cells": [
    {
      "cell_type": "markdown",
      "metadata": {
        "id": "view-in-github",
        "colab_type": "text"
      },
      "source": [
        "<a href=\"https://colab.research.google.com/github/prasi09/AI_Reports/blob/main/Linear_Regression_020327.ipynb\" target=\"_parent\"><img src=\"https://colab.research.google.com/assets/colab-badge.svg\" alt=\"Open In Colab\"/></a>"
      ]
    },
    {
      "cell_type": "code",
      "execution_count": null,
      "metadata": {
        "id": "ezoAhgjX5rDE",
        "outputId": "7d789c33-8275-43db-ec74-683e90001cf3",
        "colab": {
          "base_uri": "https://localhost:8080/"
        }
      },
      "outputs": [
        {
          "output_type": "stream",
          "name": "stdout",
          "text": [
            "Correlation Coefficient (r): 0.4203691022990806\n",
            "Intercept (a): 14.793884600791113\n",
            "Slope (b): 0.09674280587944312\n",
            "Predicted Y for X = 80 : 22.53330907114656\n",
            "\n",
            "Statistics for dataX:\n",
            "Mean: 64.6675\n",
            "Mode: 80.0\n",
            "Median: 73.33\n",
            "Variance: 631.52111875\n",
            "Standard Deviation: 25.130083938379514\n",
            "\n",
            "Statistics for dataY:\n",
            "Mean: 21.05\n",
            "Mode: 25\n",
            "Median: 23.0\n",
            "Variance: 33.447500000000005\n",
            "Standard Deviation: 5.783381363873561\n"
          ]
        }
      ],
      "source": [
        "import numpy as np\n",
        "import statistics as stats\n",
        "\n",
        "# Data\n",
        "\n",
        "dataX = np.array([93.33, 86.67, 86.67, 6.67, 80, 80, 60, 73.33,46.67,46.67,86.67,73.33,66.67,93.33,80,66.67,13.33,80,26.67,46.67])\n",
        "dataY = np.array([28,25,22,25,24,26,16,21,26,17,27,23,19,25,23,9,18,26,14,7])\n",
        "\n",
        "\n",
        "X = 80\n",
        "\n",
        "# Calculate averages\n",
        "dataXAvg = np.mean(dataX)\n",
        "dataYAvg = np.mean(dataY)\n",
        "\n",
        "# Deviation from the mean\n",
        "x = dataX - dataXAvg\n",
        "y = dataY - dataYAvg\n",
        "\n",
        "# Calculate mode\n",
        "modeX = stats.mode(dataX)  # Accessing the first mode value of dataX\n",
        "modeY = stats.mode(dataY)  # Accessing the first mode value of dataY\n",
        "\n",
        "# Calculate median\n",
        "medianX = np.median(dataX)\n",
        "medianY = np.median(dataY)\n",
        "\n",
        "# Calculate variance\n",
        "varianceX = np.var(dataX)\n",
        "varianceY = np.var(dataY)\n",
        "\n",
        "# Calculate standard deviation\n",
        "stdDevX = np.std(dataX)\n",
        "stdDevY = np.std(dataY)\n",
        "\n",
        "# Calculate products and squares\n",
        "xy = x * y\n",
        "xSqr = x ** 2\n",
        "ySqr = y ** 2\n",
        "\n",
        "# Summations\n",
        "sumxy = np.sum(xy)\n",
        "sumxSqr = np.sum(xSqr)\n",
        "sumySqr = np.sum(ySqr)\n",
        "\n",
        "# Correlation coefficient\n",
        "rCoefficient = sumxy / np.sqrt(sumxSqr * sumySqr)\n",
        "\n",
        "# Regression coefficients\n",
        "b = sumxy / sumxSqr\n",
        "a = dataYAvg - b * dataXAvg\n",
        "\n",
        "# Predict Y for given X\n",
        "Y = a + b * X\n",
        "\n",
        "# Output results\n",
        "print(\"Correlation Coefficient (r):\", rCoefficient)\n",
        "print(\"Intercept (a):\", a)\n",
        "print(\"Slope (b):\", b)\n",
        "print(\"Predicted Y for X =\", X, \":\", Y)\n",
        "\n",
        "# Additional statistical measures\n",
        "print(\"\\nStatistics for dataX:\")\n",
        "print(\"Mean:\", dataXAvg)\n",
        "print(\"Mode:\", modeX)\n",
        "print(\"Median:\", medianX)\n",
        "print(\"Variance:\", varianceX)\n",
        "print(\"Standard Deviation:\", stdDevX)\n",
        "\n",
        "print(\"\\nStatistics for dataY:\")\n",
        "print(\"Mean:\", dataYAvg)\n",
        "print(\"Mode:\", modeY)\n",
        "print(\"Median:\", medianY)\n",
        "print(\"Variance:\", varianceY)\n",
        "print(\"Standard Deviation:\", stdDevY)\n"
      ]
    }
  ]
}