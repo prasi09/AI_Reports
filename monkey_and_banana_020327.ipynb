{
  "nbformat": 4,
  "nbformat_minor": 0,
  "metadata": {
    "colab": {
      "provenance": [],
      "toc_visible": true,
      "authorship_tag": "ABX9TyO9AeOSXkf3FvzMTuf+KkND",
      "include_colab_link": true
    },
    "kernelspec": {
      "name": "python3",
      "display_name": "Python 3"
    },
    "language_info": {
      "name": "python"
    }
  },
  "cells": [
    {
      "cell_type": "markdown",
      "metadata": {
        "id": "view-in-github",
        "colab_type": "text"
      },
      "source": [
        "<a href=\"https://colab.research.google.com/github/prasi09/AI_Reports/blob/main/monkey_and_banana_020327.ipynb\" target=\"_parent\"><img src=\"https://colab.research.google.com/assets/colab-badge.svg\" alt=\"Open In Colab\"/></a>"
      ]
    },
    {
      "cell_type": "code",
      "source": [
        "from collections import deque\n",
        "\n",
        "class MonkeyBananas:\n",
        "    def __init__(self, initial_state, goal_state):\n",
        "        \"\"\"\n",
        "        Initial and Goal States:\n",
        "        State format: (monkey_position, box_position, monkey_on_box, has_bananas)\n",
        "        - monkey_position: Position of the monkey (\"door\", \"middle\", \"window\")\n",
        "        - box_position: Position of the box (\"middle\", \"window\")\n",
        "        - monkey_on_box: True/False (whether the monkey is on the box)\n",
        "        - has_bananas: True/False (whether the monkey has the bananas)\n",
        "        \"\"\"\n",
        "        self.initial_state = initial_state\n",
        "        self.goal_state = goal_state\n",
        "\n",
        "    def goalTest(self, current_state):\n",
        "        \"\"\"Check if the current state matches the goal state.\"\"\"\n",
        "        return current_state == self.goal_state\n",
        "\n",
        "    def successor(self, state):\n",
        "        \"\"\"Generate possible successor states.\"\"\"\n",
        "        successors = []\n",
        "        monkey_position, box_position, monkey_on_box, has_bananas = state\n",
        "\n",
        "        if not has_bananas:\n",
        "            # Move monkey on the floor\n",
        "            if not monkey_on_box:\n",
        "                if monkey_position != box_position:\n",
        "                    successors.append((box_position, box_position, False, False))\n",
        "                if monkey_position == \"door\" and box_position != \"middle\":\n",
        "                    successors.append((\"middle\", box_position, False, False))\n",
        "\n",
        "            # Push the box\n",
        "            if monkey_position == box_position and not monkey_on_box:\n",
        "                if box_position == \"window\":\n",
        "                    successors.append((\"middle\", \"middle\", False, False))\n",
        "\n",
        "            # Climb on the box\n",
        "            if monkey_position == box_position and not monkey_on_box:\n",
        "                successors.append((monkey_position, box_position, True, False))\n",
        "\n",
        "            # Grasp the bananas if on the box in the middle\n",
        "            if monkey_on_box and box_position == \"middle\":\n",
        "                successors.append((monkey_position, box_position, True, True))\n",
        "\n",
        "        return successors\n",
        "\n",
        "    def generate_path(self, closed, state):\n",
        "        \"\"\"Generate the path to the solution by backtracking.\"\"\"\n",
        "        path = []\n",
        "        while state:\n",
        "            path.append(state)\n",
        "            state = closed[state]\n",
        "        return path[::-1]\n",
        "\n",
        "    def search(self, method=\"DFS\"):\n",
        "        \"\"\"Implements DFS/BFS to solve the Monkey and Bananas problem.\"\"\"\n",
        "        open_list = deque([self.initial_state])\n",
        "        closed = {self.initial_state: None}\n",
        "\n",
        "        while open_list:\n",
        "            current_state = (\n",
        "                open_list.pop() if method == \"DFS\" else open_list.popleft()\n",
        "            )\n",
        "\n",
        "            if self.goalTest(current_state):\n",
        "                return self.generate_path(closed, current_state)\n",
        "\n",
        "            for successor in self.successor(current_state):\n",
        "                if successor not in closed:\n",
        "                    open_list.append(successor)\n",
        "                    closed[successor] = current_state\n",
        "\n",
        "        return None  # No solution found\n",
        "\n",
        "# Test the Monkey and Bananas Problem\n",
        "initial_state = (\"door\", \"window\", False, False)  # (monkey_position, box_position, monkey_on_box, has_bananas)\n",
        "goal_state = (\"middle\", \"middle\", True, True)       # Desired state\n",
        "\n",
        "monkey_bananas_problem = MonkeyBananas(initial_state, goal_state)\n",
        "\n",
        "# Run DFS\n",
        "dfs_solution = monkey_bananas_problem.search(method=\"DFS\")\n",
        "print(\"DFS Solution:\")\n",
        "if dfs_solution:\n",
        "    for step, state in enumerate(dfs_solution):\n",
        "        print(f\"Step {step}: Monkey at {state[0]}, Box at {state[1]}, On Box: {state[2]}, Has Bananas: {state[3]}\")\n",
        "else:\n",
        "    print(\"No solution found\")\n",
        "\n",
        "# Run BFS\n",
        "bfs_solution = monkey_bananas_problem.search(method=\"BFS\")\n",
        "print(\"\\nBFS Solution:\")\n",
        "if bfs_solution:\n",
        "    for step, state in enumerate(bfs_solution):\n",
        "        print(f\"Step {step}: Monkey at {state[0]}, Box at {state[1]}, On Box: {state[2]}, Has Bananas: {state[3]}\")\n",
        "else:\n",
        "    print(\"No solution found\")\n"
      ],
      "metadata": {
        "colab": {
          "base_uri": "https://localhost:8080/"
        },
        "id": "gANVjI82D2L3",
        "outputId": "b3eab56d-7c08-4846-9ad0-e95e09ccb49c"
      },
      "execution_count": null,
      "outputs": [
        {
          "output_type": "stream",
          "name": "stdout",
          "text": [
            "DFS Solution:\n",
            "Step 0: Monkey at door, Box at window, On Box: False, Has Bananas: False\n",
            "Step 1: Monkey at window, Box at window, On Box: False, Has Bananas: False\n",
            "Step 2: Monkey at middle, Box at middle, On Box: False, Has Bananas: False\n",
            "Step 3: Monkey at middle, Box at middle, On Box: True, Has Bananas: False\n",
            "Step 4: Monkey at middle, Box at middle, On Box: True, Has Bananas: True\n",
            "\n",
            "BFS Solution:\n",
            "Step 0: Monkey at door, Box at window, On Box: False, Has Bananas: False\n",
            "Step 1: Monkey at window, Box at window, On Box: False, Has Bananas: False\n",
            "Step 2: Monkey at middle, Box at middle, On Box: False, Has Bananas: False\n",
            "Step 3: Monkey at middle, Box at middle, On Box: True, Has Bananas: False\n",
            "Step 4: Monkey at middle, Box at middle, On Box: True, Has Bananas: True\n"
          ]
        }
      ]
    }
  ]
}