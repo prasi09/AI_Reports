{
  "nbformat": 4,
  "nbformat_minor": 0,
  "metadata": {
    "colab": {
      "provenance": [],
      "include_colab_link": true
    },
    "kernelspec": {
      "name": "python3",
      "display_name": "Python 3"
    },
    "language_info": {
      "name": "python"
    }
  },
  "cells": [
    {
      "cell_type": "markdown",
      "metadata": {
        "id": "view-in-github",
        "colab_type": "text"
      },
      "source": [
        "<a href=\"https://colab.research.google.com/github/prasi09/AI_Reports/blob/main/waterjug_problem_using_bfs_dfs_020327.ipynb\" target=\"_parent\"><img src=\"https://colab.research.google.com/assets/colab-badge.svg\" alt=\"Open In Colab\"/></a>"
      ]
    },
    {
      "cell_type": "code",
      "execution_count": null,
      "metadata": {
        "id": "VsnyxijAcerL",
        "colab": {
          "base_uri": "https://localhost:8080/"
        },
        "outputId": "24a4ee5c-8a55-4a6c-8659-5d31bd75488f"
      },
      "outputs": [
        {
          "output_type": "stream",
          "name": "stdout",
          "text": [
            "Choose method to find goal state (1 for BFS, 2 for DFS): 1\n",
            "Goal found using BFS, path: [(0, 0), (0, 3), (3, 0), (3, 3), (4, 2), (0, 2), (2, 0)]\n"
          ]
        }
      ],
      "source": [
        "from collections import deque\n",
        "\n",
        "class WaterJug:\n",
        "    def __init__(self, initial_state=(0, 0), goal_state=(2, 0)):\n",
        "        self.initial_state = initial_state\n",
        "        self.goal_state = goal_state\n",
        "\n",
        "    def goalTest(self, current_state):\n",
        "        return current_state == self.goal_state\n",
        "\n",
        "    def successors(self, state):\n",
        "        X, Y = state\n",
        "        succ = []\n",
        "\n",
        "        #Fill Jug X\n",
        "        if X < 4:\n",
        "            succ.append((4, Y))\n",
        "\n",
        "        #Fill Jug Y\n",
        "        if Y < 3:\n",
        "            succ.append((X, 3))\n",
        "\n",
        "        #Empty Jug X\n",
        "        if X > 0:\n",
        "            succ.append((0, Y))\n",
        "\n",
        "        #Empty Jug Y\n",
        "        if Y > 0:\n",
        "            succ.append((X, 0))\n",
        "\n",
        "        #Pour from X to Y\n",
        "        if X > 0 and Y < 3:\n",
        "            transfer = min(X, 3 - Y)\n",
        "            succ.append((X - transfer, Y + transfer))\n",
        "\n",
        "        #Pour from Y to X\n",
        "        if Y > 0 and X < 4:\n",
        "            transfer = min(Y, 4 - X)\n",
        "            succ.append((X + transfer, Y - transfer))\n",
        "\n",
        "        return succ\n",
        "\n",
        "    def search(self, method=\"BFS\"):\n",
        "        if method == \"BFS\":\n",
        "            open_queue = deque([self.initial_state])\n",
        "        elif method == \"DFS\":\n",
        "            open_queue = [self.initial_state]\n",
        "        else:\n",
        "            print(\"Invalid search method. Use 'BFS' or 'DFS'.\")\n",
        "            return None\n",
        "\n",
        "        closed_list = {}\n",
        "        closed_list[self.initial_state] = None\n",
        "\n",
        "        while open_queue:\n",
        "            if method == \"BFS\":\n",
        "                current_state = open_queue.popleft()\n",
        "            else:\n",
        "                current_state = open_queue.pop()\n",
        "\n",
        "            if self.goalTest(current_state):\n",
        "                return self.generate_path(closed_list, current_state)\n",
        "\n",
        "            for succ in self.successors(current_state):\n",
        "                if succ not in closed_list:\n",
        "                    open_queue.append(succ)\n",
        "                    closed_list[succ] = current_state\n",
        "\n",
        "        return None\n",
        "\n",
        "    def generate_path(self, closed_list, goal_state):\n",
        "        path = []\n",
        "        current_state = goal_state\n",
        "        while current_state is not None:\n",
        "            path.append(current_state)\n",
        "            current_state = closed_list[current_state]\n",
        "        path.reverse()\n",
        "        return path\n",
        "\n",
        "    def run(self):\n",
        "        choice = input(\"Choose method to find goal state (1 for BFS, 2 for DFS): \")\n",
        "        if choice == \"1\":\n",
        "            method = \"BFS\"\n",
        "        elif choice == \"2\":\n",
        "            method = \"DFS\"\n",
        "        else:\n",
        "            print(\"Invalid choice. Please choose 1 or 2.\")\n",
        "            return\n",
        "\n",
        "        path = self.search(method)\n",
        "        if path is None:\n",
        "            print(f\"Goal not found using {method}.\")\n",
        "        else:\n",
        "            print(f\"Goal found using {method}, path: {path}\")\n",
        "\n",
        "sol = WaterJug()\n",
        "sol.run()\n"
      ]
    },
    {
      "cell_type": "markdown",
      "source": [],
      "metadata": {
        "id": "BALCddw8e_PX"
      }
    }
  ]
}
